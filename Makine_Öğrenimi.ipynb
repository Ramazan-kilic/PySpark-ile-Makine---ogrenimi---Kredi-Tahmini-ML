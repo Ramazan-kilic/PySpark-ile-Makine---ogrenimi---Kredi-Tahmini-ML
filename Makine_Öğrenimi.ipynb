{
  "nbformat": 4,
  "nbformat_minor": 0,
  "metadata": {
    "colab": {
      "provenance": []
    },
    "kernelspec": {
      "name": "python3",
      "display_name": "Python 3"
    },
    "language_info": {
      "name": "python"
    }
  },
  "cells": [
    {
      "cell_type": "markdown",
      "source": [
        "Pyspark Kütüphanesinin Kurulumu"
      ],
      "metadata": {
        "id": "DdTwvNR9q751"
      }
    },
    {
      "cell_type": "code",
      "execution_count": 1,
      "metadata": {
        "colab": {
          "base_uri": "https://localhost:8080/"
        },
        "id": "NRIq_xLezCd9",
        "outputId": "83cb048a-6aea-4b7b-8936-e29a0cafffee"
      },
      "outputs": [
        {
          "output_type": "stream",
          "name": "stdout",
          "text": [
            "Collecting pyspark\n",
            "  Downloading pyspark-3.5.1.tar.gz (317.0 MB)\n",
            "\u001b[2K     \u001b[90m━━━━━━━━━━━━━━━━━━━━━━━━━━━━━━━━━━━━━━━━\u001b[0m \u001b[32m317.0/317.0 MB\u001b[0m \u001b[31m2.3 MB/s\u001b[0m eta \u001b[36m0:00:00\u001b[0m\n",
            "\u001b[?25h  Preparing metadata (setup.py) ... \u001b[?25l\u001b[?25hdone\n",
            "Requirement already satisfied: py4j==0.10.9.7 in /usr/local/lib/python3.10/dist-packages (from pyspark) (0.10.9.7)\n",
            "Building wheels for collected packages: pyspark\n",
            "  Building wheel for pyspark (setup.py) ... \u001b[?25l\u001b[?25hdone\n",
            "  Created wheel for pyspark: filename=pyspark-3.5.1-py2.py3-none-any.whl size=317488491 sha256=4d494e7be09d57991130e37054fe333f7eaabad0040a3469fdb4a1dab50316e4\n",
            "  Stored in directory: /root/.cache/pip/wheels/80/1d/60/2c256ed38dddce2fdd93be545214a63e02fbd8d74fb0b7f3a6\n",
            "Successfully built pyspark\n",
            "Installing collected packages: pyspark\n",
            "Successfully installed pyspark-3.5.1\n"
          ]
        }
      ],
      "source": [
        "pip install pyspark"
      ]
    },
    {
      "cell_type": "markdown",
      "source": [
        "Python'da programınızın çalışması sırasında üretilen uyarıları görmezden gelmenizi sağlar."
      ],
      "metadata": {
        "id": "IlI2vL27sW4H"
      }
    },
    {
      "cell_type": "code",
      "source": [
        "import warnings\n",
        "warnings.filterwarnings('ignore')"
      ],
      "metadata": {
        "id": "q3CSkA1CzLxl"
      },
      "execution_count": 110,
      "outputs": []
    },
    {
      "cell_type": "markdown",
      "source": [
        " \"Makine Öğrenimi\" adında bir uygulama adıyla bir Spark oturumu oluşturuyoruz"
      ],
      "metadata": {
        "id": "iTtLF2Jes6BN"
      }
    },
    {
      "cell_type": "code",
      "source": [
        "from pyspark.sql import SparkSession\n",
        "spark = SparkSession.builder.appName(\"Makine Öğrenimi\").getOrCreate()"
      ],
      "metadata": {
        "id": "HCsEFaM1zLvh"
      },
      "execution_count": 111,
      "outputs": []
    },
    {
      "cell_type": "markdown",
      "source": [
        "CSV dosyasından veri okuyoruz ve bir DataFrame'e yüklüyoruz"
      ],
      "metadata": {
        "id": "zk4i3AcLttqH"
      }
    },
    {
      "cell_type": "code",
      "source": [
        "df = spark.read.csv(\"Data.csv\",header=True,inferSchema=True)"
      ],
      "metadata": {
        "id": "C-BRErkezLs8"
      },
      "execution_count": 112,
      "outputs": []
    },
    {
      "cell_type": "markdown",
      "source": [
        "DataFrame'in yapısını ve veri tiplerini kontrol ediyoruz"
      ],
      "metadata": {
        "id": "6kf-dgk8t1le"
      }
    },
    {
      "cell_type": "code",
      "source": [
        "df.show()"
      ],
      "metadata": {
        "colab": {
          "base_uri": "https://localhost:8080/"
        },
        "id": "M2D40Q6hzLqZ",
        "outputId": "e3173c58-f085-4d64-87c4-53fe13590ad8"
      },
      "execution_count": 113,
      "outputs": [
        {
          "output_type": "stream",
          "name": "stdout",
          "text": [
            "+--------+------+-------+----------+------------+-------------+---------------+-----------------+----------+----------------+--------------+-------------+-----------+\n",
            "| Loan_ID|Gender|Married|Dependents|   Education|Self_Employed|ApplicantIncome|CoapplicantIncome|LoanAmount|Loan_Amount_Term|Credit_History|Property_Area|Loan_Status|\n",
            "+--------+------+-------+----------+------------+-------------+---------------+-----------------+----------+----------------+--------------+-------------+-----------+\n",
            "|LP001002|  Male|     No|         0|    Graduate|           No|           5849|              0.0|      NULL|             360|             1|        Urban|          Y|\n",
            "|LP001003|  Male|    Yes|         1|    Graduate|           No|           4583|           1508.0|       128|             360|             1|        Rural|          N|\n",
            "|LP001005|  Male|    Yes|         0|    Graduate|          Yes|           3000|              0.0|        66|             360|             1|        Urban|          Y|\n",
            "|LP001006|  Male|    Yes|         0|Not Graduate|           No|           2583|           2358.0|       120|             360|             1|        Urban|          Y|\n",
            "|LP001008|  Male|     No|         0|    Graduate|           No|           6000|              0.0|       141|             360|             1|        Urban|          Y|\n",
            "|LP001011|  Male|    Yes|         2|    Graduate|          Yes|           5417|           4196.0|       267|             360|             1|        Urban|          Y|\n",
            "|LP001013|  Male|    Yes|         0|Not Graduate|           No|           2333|           1516.0|        95|             360|             1|        Urban|          Y|\n",
            "|LP001014|  Male|    Yes|        3+|    Graduate|           No|           3036|           2504.0|       158|             360|             0|    Semiurban|          N|\n",
            "|LP001018|  Male|    Yes|         2|    Graduate|           No|           4006|           1526.0|       168|             360|             1|        Urban|          Y|\n",
            "|LP001020|  Male|    Yes|         1|    Graduate|           No|          12841|          10968.0|       349|             360|             1|    Semiurban|          N|\n",
            "|LP001024|  Male|    Yes|         2|    Graduate|           No|           3200|            700.0|        70|             360|             1|        Urban|          Y|\n",
            "|LP001027|  Male|    Yes|         2|    Graduate|         NULL|           2500|           1840.0|       109|             360|             1|        Urban|          Y|\n",
            "|LP001028|  Male|    Yes|         2|    Graduate|           No|           3073|           8106.0|       200|             360|             1|        Urban|          Y|\n",
            "|LP001029|  Male|     No|         0|    Graduate|           No|           1853|           2840.0|       114|             360|             1|        Rural|          N|\n",
            "|LP001030|  Male|    Yes|         2|    Graduate|           No|           1299|           1086.0|        17|             120|             1|        Urban|          Y|\n",
            "|LP001032|  Male|     No|         0|    Graduate|           No|           4950|              0.0|       125|             360|             1|        Urban|          Y|\n",
            "|LP001034|  Male|     No|         1|Not Graduate|           No|           3596|              0.0|       100|             240|          NULL|        Urban|          Y|\n",
            "|LP001036|Female|     No|         0|    Graduate|           No|           3510|              0.0|        76|             360|             0|        Urban|          N|\n",
            "|LP001038|  Male|    Yes|         0|Not Graduate|           No|           4887|              0.0|       133|             360|             1|        Rural|          N|\n",
            "|LP001041|  Male|    Yes|         0|    Graduate|         NULL|           2600|           3500.0|       115|            NULL|             1|        Urban|          Y|\n",
            "+--------+------+-------+----------+------------+-------------+---------------+-----------------+----------+----------------+--------------+-------------+-----------+\n",
            "only showing top 20 rows\n",
            "\n"
          ]
        }
      ]
    },
    {
      "cell_type": "code",
      "source": [
        "df.printSchema()"
      ],
      "metadata": {
        "colab": {
          "base_uri": "https://localhost:8080/"
        },
        "id": "JA6ngLoFzLn9",
        "outputId": "1292cc30-e48e-4441-836f-96021b1cbb0b"
      },
      "execution_count": 114,
      "outputs": [
        {
          "output_type": "stream",
          "name": "stdout",
          "text": [
            "root\n",
            " |-- Loan_ID: string (nullable = true)\n",
            " |-- Gender: string (nullable = true)\n",
            " |-- Married: string (nullable = true)\n",
            " |-- Dependents: string (nullable = true)\n",
            " |-- Education: string (nullable = true)\n",
            " |-- Self_Employed: string (nullable = true)\n",
            " |-- ApplicantIncome: integer (nullable = true)\n",
            " |-- CoapplicantIncome: double (nullable = true)\n",
            " |-- LoanAmount: integer (nullable = true)\n",
            " |-- Loan_Amount_Term: integer (nullable = true)\n",
            " |-- Credit_History: integer (nullable = true)\n",
            " |-- Property_Area: string (nullable = true)\n",
            " |-- Loan_Status: string (nullable = true)\n",
            "\n"
          ]
        }
      ]
    },
    {
      "cell_type": "code",
      "source": [
        "df.dtypes"
      ],
      "metadata": {
        "colab": {
          "base_uri": "https://localhost:8080/"
        },
        "id": "7bW9809PzLlV",
        "outputId": "572b9a76-13ee-41d5-c2fc-d9eed868fb8e"
      },
      "execution_count": 115,
      "outputs": [
        {
          "output_type": "execute_result",
          "data": {
            "text/plain": [
              "[('Loan_ID', 'string'),\n",
              " ('Gender', 'string'),\n",
              " ('Married', 'string'),\n",
              " ('Dependents', 'string'),\n",
              " ('Education', 'string'),\n",
              " ('Self_Employed', 'string'),\n",
              " ('ApplicantIncome', 'int'),\n",
              " ('CoapplicantIncome', 'double'),\n",
              " ('LoanAmount', 'int'),\n",
              " ('Loan_Amount_Term', 'int'),\n",
              " ('Credit_History', 'int'),\n",
              " ('Property_Area', 'string'),\n",
              " ('Loan_Status', 'string')]"
            ]
          },
          "metadata": {},
          "execution_count": 115
        }
      ]
    },
    {
      "cell_type": "markdown",
      "source": [
        "Burada DataFrame'deki sütun adlarını değiştiriyoruz"
      ],
      "metadata": {
        "id": "RPZ40vW-tx9S"
      }
    },
    {
      "cell_type": "code",
      "source": [
        "df = df.withColumnRenamed('Loan_ID', 'Id') \\\n",
        "       .withColumnRenamed('Gender', 'Cinsiyet') \\\n",
        "       .withColumnRenamed('Married', 'Evli') \\\n",
        "       .withColumnRenamed('Dependents', 'Bakımlılar') \\\n",
        "       .withColumnRenamed('Education', 'Eğitim') \\\n",
        "       .withColumnRenamed('Self_Employed', 'Serbest Meslek') \\\n",
        "       .withColumnRenamed('ApplicantIncome', 'Başvuru Sahibinin Geliri') \\\n",
        "       .withColumnRenamed('CoapplicantIncome', 'Ortak Başvuru Sahibinin Geliri') \\\n",
        "       .withColumnRenamed('LoanAmount', 'Kredi miktarı') \\\n",
        "       .withColumnRenamed('Loan_Amount_Term', 'Kredi Tutarı Vadesi') \\\n",
        "       .withColumnRenamed('Credit_History', 'Kredi geçmişi') \\\n",
        "       .withColumnRenamed('Property_Area', 'Mülk_Alan') \\\n",
        "       .withColumnRenamed('Loan_Status','Kredi_Durumu')"
      ],
      "metadata": {
        "id": "vB3HgcQPzLjS"
      },
      "execution_count": 116,
      "outputs": []
    },
    {
      "cell_type": "code",
      "source": [
        "df.show()"
      ],
      "metadata": {
        "colab": {
          "base_uri": "https://localhost:8080/"
        },
        "id": "jYQR1viezLgx",
        "outputId": "19391ab3-4a6d-415a-fb34-533d756911f1"
      },
      "execution_count": 117,
      "outputs": [
        {
          "output_type": "stream",
          "name": "stdout",
          "text": [
            "+--------+--------+----+----------+------------+--------------+------------------------+------------------------------+-------------+-------------------+-------------+---------+------------+\n",
            "|      Id|Cinsiyet|Evli|Bakımlılar|      Eğitim|Serbest Meslek|Başvuru Sahibinin Geliri|Ortak Başvuru Sahibinin Geliri|Kredi miktarı|Kredi Tutarı Vadesi|Kredi geçmişi|Mülk_Alan|Kredi_Durumu|\n",
            "+--------+--------+----+----------+------------+--------------+------------------------+------------------------------+-------------+-------------------+-------------+---------+------------+\n",
            "|LP001002|    Male|  No|         0|    Graduate|            No|                    5849|                           0.0|         NULL|                360|            1|    Urban|           Y|\n",
            "|LP001003|    Male| Yes|         1|    Graduate|            No|                    4583|                        1508.0|          128|                360|            1|    Rural|           N|\n",
            "|LP001005|    Male| Yes|         0|    Graduate|           Yes|                    3000|                           0.0|           66|                360|            1|    Urban|           Y|\n",
            "|LP001006|    Male| Yes|         0|Not Graduate|            No|                    2583|                        2358.0|          120|                360|            1|    Urban|           Y|\n",
            "|LP001008|    Male|  No|         0|    Graduate|            No|                    6000|                           0.0|          141|                360|            1|    Urban|           Y|\n",
            "|LP001011|    Male| Yes|         2|    Graduate|           Yes|                    5417|                        4196.0|          267|                360|            1|    Urban|           Y|\n",
            "|LP001013|    Male| Yes|         0|Not Graduate|            No|                    2333|                        1516.0|           95|                360|            1|    Urban|           Y|\n",
            "|LP001014|    Male| Yes|        3+|    Graduate|            No|                    3036|                        2504.0|          158|                360|            0|Semiurban|           N|\n",
            "|LP001018|    Male| Yes|         2|    Graduate|            No|                    4006|                        1526.0|          168|                360|            1|    Urban|           Y|\n",
            "|LP001020|    Male| Yes|         1|    Graduate|            No|                   12841|                       10968.0|          349|                360|            1|Semiurban|           N|\n",
            "|LP001024|    Male| Yes|         2|    Graduate|            No|                    3200|                         700.0|           70|                360|            1|    Urban|           Y|\n",
            "|LP001027|    Male| Yes|         2|    Graduate|          NULL|                    2500|                        1840.0|          109|                360|            1|    Urban|           Y|\n",
            "|LP001028|    Male| Yes|         2|    Graduate|            No|                    3073|                        8106.0|          200|                360|            1|    Urban|           Y|\n",
            "|LP001029|    Male|  No|         0|    Graduate|            No|                    1853|                        2840.0|          114|                360|            1|    Rural|           N|\n",
            "|LP001030|    Male| Yes|         2|    Graduate|            No|                    1299|                        1086.0|           17|                120|            1|    Urban|           Y|\n",
            "|LP001032|    Male|  No|         0|    Graduate|            No|                    4950|                           0.0|          125|                360|            1|    Urban|           Y|\n",
            "|LP001034|    Male|  No|         1|Not Graduate|            No|                    3596|                           0.0|          100|                240|         NULL|    Urban|           Y|\n",
            "|LP001036|  Female|  No|         0|    Graduate|            No|                    3510|                           0.0|           76|                360|            0|    Urban|           N|\n",
            "|LP001038|    Male| Yes|         0|Not Graduate|            No|                    4887|                           0.0|          133|                360|            1|    Rural|           N|\n",
            "|LP001041|    Male| Yes|         0|    Graduate|          NULL|                    2600|                        3500.0|          115|               NULL|            1|    Urban|           Y|\n",
            "+--------+--------+----+----------+------------+--------------+------------------------+------------------------------+-------------+-------------------+-------------+---------+------------+\n",
            "only showing top 20 rows\n",
            "\n"
          ]
        }
      ]
    },
    {
      "cell_type": "markdown",
      "source": [
        "'Kredi_Durumu' sütununa göre DataFrame'i gruplar ve her grup için kayıt sayısını hesaplar"
      ],
      "metadata": {
        "id": "XIi6ypWNujBw"
      }
    },
    {
      "cell_type": "code",
      "source": [
        "df.groupBy('Kredi_Durumu').count().show()"
      ],
      "metadata": {
        "colab": {
          "base_uri": "https://localhost:8080/"
        },
        "id": "-aPJlhbYzLeM",
        "outputId": "c8f65cac-5c71-40c1-9097-12a21ff81700"
      },
      "execution_count": 118,
      "outputs": [
        {
          "output_type": "stream",
          "name": "stdout",
          "text": [
            "+------------+-----+\n",
            "|Kredi_Durumu|count|\n",
            "+------------+-----+\n",
            "|           Y|  422|\n",
            "|           N|  192|\n",
            "+------------+-----+\n",
            "\n"
          ]
        }
      ]
    },
    {
      "cell_type": "code",
      "source": [
        "import pyspark.sql.functions as Sp\n",
        "import pandas as pd"
      ],
      "metadata": {
        "id": "76iey33KzLbk"
      },
      "execution_count": 119,
      "outputs": []
    },
    {
      "cell_type": "markdown",
      "source": [
        "B'Kredi geçmişi' ve 'Kredi_Durumu' sütunlarını seçeriz, sonra 'Kredi_Durumu' sütununa göre gruplar ve her grup için 'Kredi geçmişi' sütununun ortalamasını hesaplarız"
      ],
      "metadata": {
        "id": "Lglweam_vcYU"
      }
    },
    {
      "cell_type": "code",
      "source": [
        "dfn = df.select('Kredi geçmişi','Kredi_Durumu').groupBy('Kredi_Durumu').agg(Sp.avg('Kredi geçmişi')).show()"
      ],
      "metadata": {
        "colab": {
          "base_uri": "https://localhost:8080/"
        },
        "id": "85N1RdE0zLZR",
        "outputId": "ebe2fe65-547d-4a8c-9e61-2f400ab2891e"
      },
      "execution_count": 120,
      "outputs": [
        {
          "output_type": "stream",
          "name": "stdout",
          "text": [
            "+------------+------------------+\n",
            "|Kredi_Durumu|avg(Kredi geçmişi)|\n",
            "+------------+------------------+\n",
            "|           Y|0.9818181818181818|\n",
            "|           N|0.5418994413407822|\n",
            "+------------+------------------+\n",
            "\n"
          ]
        }
      ]
    },
    {
      "cell_type": "markdown",
      "source": [
        "Bu kod,Sütunlar arasındaki korelasyonu hesaplayarak bir korelasyon matrisi oluşturur. Korelasyon matrisi, DataFrame'deki her iki sayısal değişken arasındaki ilişkiyi gösterir"
      ],
      "metadata": {
        "id": "JFQYdyAOwmEN"
      }
    },
    {
      "cell_type": "code",
      "source": [
        "columns = ['Başvuru Sahibinin Geliri','Ortak Başvuru Sahibinin Geliri','Kredi miktarı','Kredi Tutarı Vadesi', 'Kredi geçmişi']\n",
        "corr_df = pd.DataFrame()\n",
        "for i in columns:\n",
        "    corr = []\n",
        "    for j in columns:\n",
        "        corr.append(round(df.corr(i, j), 2))\n",
        "    corr_df = pd.concat([corr_df, pd.Series(corr)], axis=1)\n",
        "corr_df.columns = columns\n",
        "corr_df.insert(0,'' ,columns)\n",
        "corr_df.set_index('')"
      ],
      "metadata": {
        "colab": {
          "base_uri": "https://localhost:8080/",
          "height": 220
        },
        "id": "bhp__P9azLTx",
        "outputId": "bcec00b0-ce25-46e1-beb2-3747086cc60e"
      },
      "execution_count": 121,
      "outputs": [
        {
          "output_type": "execute_result",
          "data": {
            "text/plain": [
              "                                Başvuru Sahibinin Geliri  \\\n",
              "                                                           \n",
              "Başvuru Sahibinin Geliri                            1.00   \n",
              "Ortak Başvuru Sahibinin Geliri                     -0.12   \n",
              "Kredi miktarı                                       0.54   \n",
              "Kredi Tutarı Vadesi                                -0.02   \n",
              "Kredi geçmişi                                       0.01   \n",
              "\n",
              "                                Ortak Başvuru Sahibinin Geliri  Kredi miktarı  \\\n",
              "                                                                                \n",
              "Başvuru Sahibinin Geliri                                 -0.12           0.54   \n",
              "Ortak Başvuru Sahibinin Geliri                            1.00           0.19   \n",
              "Kredi miktarı                                             0.19           1.00   \n",
              "Kredi Tutarı Vadesi                                      -0.05           0.06   \n",
              "Kredi geçmişi                                            -0.06          -0.03   \n",
              "\n",
              "                                Kredi Tutarı Vadesi  Kredi geçmişi  \n",
              "                                                                    \n",
              "Başvuru Sahibinin Geliri                      -0.02           0.01  \n",
              "Ortak Başvuru Sahibinin Geliri                -0.05          -0.06  \n",
              "Kredi miktarı                                  0.06          -0.03  \n",
              "Kredi Tutarı Vadesi                            1.00           0.05  \n",
              "Kredi geçmişi                                  0.05           1.00  "
            ],
            "text/html": [
              "\n",
              "  <div id=\"df-49a9a113-ae4a-4bc6-bf43-b735ab1c3adf\" class=\"colab-df-container\">\n",
              "    <div>\n",
              "<style scoped>\n",
              "    .dataframe tbody tr th:only-of-type {\n",
              "        vertical-align: middle;\n",
              "    }\n",
              "\n",
              "    .dataframe tbody tr th {\n",
              "        vertical-align: top;\n",
              "    }\n",
              "\n",
              "    .dataframe thead th {\n",
              "        text-align: right;\n",
              "    }\n",
              "</style>\n",
              "<table border=\"1\" class=\"dataframe\">\n",
              "  <thead>\n",
              "    <tr style=\"text-align: right;\">\n",
              "      <th></th>\n",
              "      <th>Başvuru Sahibinin Geliri</th>\n",
              "      <th>Ortak Başvuru Sahibinin Geliri</th>\n",
              "      <th>Kredi miktarı</th>\n",
              "      <th>Kredi Tutarı Vadesi</th>\n",
              "      <th>Kredi geçmişi</th>\n",
              "    </tr>\n",
              "    <tr>\n",
              "      <th></th>\n",
              "      <th></th>\n",
              "      <th></th>\n",
              "      <th></th>\n",
              "      <th></th>\n",
              "      <th></th>\n",
              "    </tr>\n",
              "  </thead>\n",
              "  <tbody>\n",
              "    <tr>\n",
              "      <th>Başvuru Sahibinin Geliri</th>\n",
              "      <td>1.00</td>\n",
              "      <td>-0.12</td>\n",
              "      <td>0.54</td>\n",
              "      <td>-0.02</td>\n",
              "      <td>0.01</td>\n",
              "    </tr>\n",
              "    <tr>\n",
              "      <th>Ortak Başvuru Sahibinin Geliri</th>\n",
              "      <td>-0.12</td>\n",
              "      <td>1.00</td>\n",
              "      <td>0.19</td>\n",
              "      <td>-0.05</td>\n",
              "      <td>-0.06</td>\n",
              "    </tr>\n",
              "    <tr>\n",
              "      <th>Kredi miktarı</th>\n",
              "      <td>0.54</td>\n",
              "      <td>0.19</td>\n",
              "      <td>1.00</td>\n",
              "      <td>0.06</td>\n",
              "      <td>-0.03</td>\n",
              "    </tr>\n",
              "    <tr>\n",
              "      <th>Kredi Tutarı Vadesi</th>\n",
              "      <td>-0.02</td>\n",
              "      <td>-0.05</td>\n",
              "      <td>0.06</td>\n",
              "      <td>1.00</td>\n",
              "      <td>0.05</td>\n",
              "    </tr>\n",
              "    <tr>\n",
              "      <th>Kredi geçmişi</th>\n",
              "      <td>0.01</td>\n",
              "      <td>-0.06</td>\n",
              "      <td>-0.03</td>\n",
              "      <td>0.05</td>\n",
              "      <td>1.00</td>\n",
              "    </tr>\n",
              "  </tbody>\n",
              "</table>\n",
              "</div>\n",
              "    <div class=\"colab-df-buttons\">\n",
              "\n",
              "  <div class=\"colab-df-container\">\n",
              "    <button class=\"colab-df-convert\" onclick=\"convertToInteractive('df-49a9a113-ae4a-4bc6-bf43-b735ab1c3adf')\"\n",
              "            title=\"Convert this dataframe to an interactive table.\"\n",
              "            style=\"display:none;\">\n",
              "\n",
              "  <svg xmlns=\"http://www.w3.org/2000/svg\" height=\"24px\" viewBox=\"0 -960 960 960\">\n",
              "    <path d=\"M120-120v-720h720v720H120Zm60-500h600v-160H180v160Zm220 220h160v-160H400v160Zm0 220h160v-160H400v160ZM180-400h160v-160H180v160Zm440 0h160v-160H620v160ZM180-180h160v-160H180v160Zm440 0h160v-160H620v160Z\"/>\n",
              "  </svg>\n",
              "    </button>\n",
              "\n",
              "  <style>\n",
              "    .colab-df-container {\n",
              "      display:flex;\n",
              "      gap: 12px;\n",
              "    }\n",
              "\n",
              "    .colab-df-convert {\n",
              "      background-color: #E8F0FE;\n",
              "      border: none;\n",
              "      border-radius: 50%;\n",
              "      cursor: pointer;\n",
              "      display: none;\n",
              "      fill: #1967D2;\n",
              "      height: 32px;\n",
              "      padding: 0 0 0 0;\n",
              "      width: 32px;\n",
              "    }\n",
              "\n",
              "    .colab-df-convert:hover {\n",
              "      background-color: #E2EBFA;\n",
              "      box-shadow: 0px 1px 2px rgba(60, 64, 67, 0.3), 0px 1px 3px 1px rgba(60, 64, 67, 0.15);\n",
              "      fill: #174EA6;\n",
              "    }\n",
              "\n",
              "    .colab-df-buttons div {\n",
              "      margin-bottom: 4px;\n",
              "    }\n",
              "\n",
              "    [theme=dark] .colab-df-convert {\n",
              "      background-color: #3B4455;\n",
              "      fill: #D2E3FC;\n",
              "    }\n",
              "\n",
              "    [theme=dark] .colab-df-convert:hover {\n",
              "      background-color: #434B5C;\n",
              "      box-shadow: 0px 1px 3px 1px rgba(0, 0, 0, 0.15);\n",
              "      filter: drop-shadow(0px 1px 2px rgba(0, 0, 0, 0.3));\n",
              "      fill: #FFFFFF;\n",
              "    }\n",
              "  </style>\n",
              "\n",
              "    <script>\n",
              "      const buttonEl =\n",
              "        document.querySelector('#df-49a9a113-ae4a-4bc6-bf43-b735ab1c3adf button.colab-df-convert');\n",
              "      buttonEl.style.display =\n",
              "        google.colab.kernel.accessAllowed ? 'block' : 'none';\n",
              "\n",
              "      async function convertToInteractive(key) {\n",
              "        const element = document.querySelector('#df-49a9a113-ae4a-4bc6-bf43-b735ab1c3adf');\n",
              "        const dataTable =\n",
              "          await google.colab.kernel.invokeFunction('convertToInteractive',\n",
              "                                                    [key], {});\n",
              "        if (!dataTable) return;\n",
              "\n",
              "        const docLinkHtml = 'Like what you see? Visit the ' +\n",
              "          '<a target=\"_blank\" href=https://colab.research.google.com/notebooks/data_table.ipynb>data table notebook</a>'\n",
              "          + ' to learn more about interactive tables.';\n",
              "        element.innerHTML = '';\n",
              "        dataTable['output_type'] = 'display_data';\n",
              "        await google.colab.output.renderOutput(dataTable, element);\n",
              "        const docLink = document.createElement('div');\n",
              "        docLink.innerHTML = docLinkHtml;\n",
              "        element.appendChild(docLink);\n",
              "      }\n",
              "    </script>\n",
              "  </div>\n",
              "\n",
              "\n",
              "<div id=\"df-484bdcbe-8aa6-4c8e-b196-52bcbe22a1fa\">\n",
              "  <button class=\"colab-df-quickchart\" onclick=\"quickchart('df-484bdcbe-8aa6-4c8e-b196-52bcbe22a1fa')\"\n",
              "            title=\"Suggest charts\"\n",
              "            style=\"display:none;\">\n",
              "\n",
              "<svg xmlns=\"http://www.w3.org/2000/svg\" height=\"24px\"viewBox=\"0 0 24 24\"\n",
              "     width=\"24px\">\n",
              "    <g>\n",
              "        <path d=\"M19 3H5c-1.1 0-2 .9-2 2v14c0 1.1.9 2 2 2h14c1.1 0 2-.9 2-2V5c0-1.1-.9-2-2-2zM9 17H7v-7h2v7zm4 0h-2V7h2v10zm4 0h-2v-4h2v4z\"/>\n",
              "    </g>\n",
              "</svg>\n",
              "  </button>\n",
              "\n",
              "<style>\n",
              "  .colab-df-quickchart {\n",
              "      --bg-color: #E8F0FE;\n",
              "      --fill-color: #1967D2;\n",
              "      --hover-bg-color: #E2EBFA;\n",
              "      --hover-fill-color: #174EA6;\n",
              "      --disabled-fill-color: #AAA;\n",
              "      --disabled-bg-color: #DDD;\n",
              "  }\n",
              "\n",
              "  [theme=dark] .colab-df-quickchart {\n",
              "      --bg-color: #3B4455;\n",
              "      --fill-color: #D2E3FC;\n",
              "      --hover-bg-color: #434B5C;\n",
              "      --hover-fill-color: #FFFFFF;\n",
              "      --disabled-bg-color: #3B4455;\n",
              "      --disabled-fill-color: #666;\n",
              "  }\n",
              "\n",
              "  .colab-df-quickchart {\n",
              "    background-color: var(--bg-color);\n",
              "    border: none;\n",
              "    border-radius: 50%;\n",
              "    cursor: pointer;\n",
              "    display: none;\n",
              "    fill: var(--fill-color);\n",
              "    height: 32px;\n",
              "    padding: 0;\n",
              "    width: 32px;\n",
              "  }\n",
              "\n",
              "  .colab-df-quickchart:hover {\n",
              "    background-color: var(--hover-bg-color);\n",
              "    box-shadow: 0 1px 2px rgba(60, 64, 67, 0.3), 0 1px 3px 1px rgba(60, 64, 67, 0.15);\n",
              "    fill: var(--button-hover-fill-color);\n",
              "  }\n",
              "\n",
              "  .colab-df-quickchart-complete:disabled,\n",
              "  .colab-df-quickchart-complete:disabled:hover {\n",
              "    background-color: var(--disabled-bg-color);\n",
              "    fill: var(--disabled-fill-color);\n",
              "    box-shadow: none;\n",
              "  }\n",
              "\n",
              "  .colab-df-spinner {\n",
              "    border: 2px solid var(--fill-color);\n",
              "    border-color: transparent;\n",
              "    border-bottom-color: var(--fill-color);\n",
              "    animation:\n",
              "      spin 1s steps(1) infinite;\n",
              "  }\n",
              "\n",
              "  @keyframes spin {\n",
              "    0% {\n",
              "      border-color: transparent;\n",
              "      border-bottom-color: var(--fill-color);\n",
              "      border-left-color: var(--fill-color);\n",
              "    }\n",
              "    20% {\n",
              "      border-color: transparent;\n",
              "      border-left-color: var(--fill-color);\n",
              "      border-top-color: var(--fill-color);\n",
              "    }\n",
              "    30% {\n",
              "      border-color: transparent;\n",
              "      border-left-color: var(--fill-color);\n",
              "      border-top-color: var(--fill-color);\n",
              "      border-right-color: var(--fill-color);\n",
              "    }\n",
              "    40% {\n",
              "      border-color: transparent;\n",
              "      border-right-color: var(--fill-color);\n",
              "      border-top-color: var(--fill-color);\n",
              "    }\n",
              "    60% {\n",
              "      border-color: transparent;\n",
              "      border-right-color: var(--fill-color);\n",
              "    }\n",
              "    80% {\n",
              "      border-color: transparent;\n",
              "      border-right-color: var(--fill-color);\n",
              "      border-bottom-color: var(--fill-color);\n",
              "    }\n",
              "    90% {\n",
              "      border-color: transparent;\n",
              "      border-bottom-color: var(--fill-color);\n",
              "    }\n",
              "  }\n",
              "</style>\n",
              "\n",
              "  <script>\n",
              "    async function quickchart(key) {\n",
              "      const quickchartButtonEl =\n",
              "        document.querySelector('#' + key + ' button');\n",
              "      quickchartButtonEl.disabled = true;  // To prevent multiple clicks.\n",
              "      quickchartButtonEl.classList.add('colab-df-spinner');\n",
              "      try {\n",
              "        const charts = await google.colab.kernel.invokeFunction(\n",
              "            'suggestCharts', [key], {});\n",
              "      } catch (error) {\n",
              "        console.error('Error during call to suggestCharts:', error);\n",
              "      }\n",
              "      quickchartButtonEl.classList.remove('colab-df-spinner');\n",
              "      quickchartButtonEl.classList.add('colab-df-quickchart-complete');\n",
              "    }\n",
              "    (() => {\n",
              "      let quickchartButtonEl =\n",
              "        document.querySelector('#df-484bdcbe-8aa6-4c8e-b196-52bcbe22a1fa button');\n",
              "      quickchartButtonEl.style.display =\n",
              "        google.colab.kernel.accessAllowed ? 'block' : 'none';\n",
              "    })();\n",
              "  </script>\n",
              "</div>\n",
              "\n",
              "    </div>\n",
              "  </div>\n"
            ],
            "application/vnd.google.colaboratory.intrinsic+json": {
              "type": "dataframe",
              "summary": "{\n  \"name\": \"corr_df\",\n  \"rows\": 5,\n  \"fields\": [\n    {\n      \"column\": \"Ba\\u015fvuru Sahibinin Geliri\",\n      \"properties\": {\n        \"dtype\": \"number\",\n        \"std\": 0.47667599058479965,\n        \"min\": -0.12,\n        \"max\": 1.0,\n        \"num_unique_values\": 5,\n        \"samples\": [\n          -0.12,\n          0.01,\n          0.54\n        ],\n        \"semantic_type\": \"\",\n        \"description\": \"\"\n      }\n    },\n    {\n      \"column\": \"Ortak Ba\\u015fvuru Sahibinin Geliri\",\n      \"properties\": {\n        \"dtype\": \"number\",\n        \"std\": 0.4669796569444969,\n        \"min\": -0.12,\n        \"max\": 1.0,\n        \"num_unique_values\": 5,\n        \"samples\": [\n          1.0,\n          -0.06,\n          0.19\n        ],\n        \"semantic_type\": \"\",\n        \"description\": \"\"\n      }\n    },\n    {\n      \"column\": \"Kredi miktar\\u0131\",\n      \"properties\": {\n        \"dtype\": \"number\",\n        \"std\": 0.4221018834357411,\n        \"min\": -0.03,\n        \"max\": 1.0,\n        \"num_unique_values\": 5,\n        \"samples\": [\n          0.19,\n          -0.03,\n          1.0\n        ],\n        \"semantic_type\": \"\",\n        \"description\": \"\"\n      }\n    },\n    {\n      \"column\": \"Kredi Tutar\\u0131 Vadesi\",\n      \"properties\": {\n        \"dtype\": \"number\",\n        \"std\": 0.4451628915352222,\n        \"min\": -0.05,\n        \"max\": 1.0,\n        \"num_unique_values\": 5,\n        \"samples\": [\n          -0.05,\n          0.05,\n          0.06\n        ],\n        \"semantic_type\": \"\",\n        \"description\": \"\"\n      }\n    },\n    {\n      \"column\": \"Kredi ge\\u00e7mi\\u015fi\",\n      \"properties\": {\n        \"dtype\": \"number\",\n        \"std\": 0.4524709935454427,\n        \"min\": -0.06,\n        \"max\": 1.0,\n        \"num_unique_values\": 5,\n        \"samples\": [\n          -0.06,\n          1.0,\n          -0.03\n        ],\n        \"semantic_type\": \"\",\n        \"description\": \"\"\n      }\n    }\n  ]\n}"
            }
          },
          "metadata": {},
          "execution_count": 121
        }
      ]
    },
    {
      "cell_type": "markdown",
      "source": [
        "DataFrame içindeki her sütun için eksik değerlerinin sayısını hesapladık"
      ],
      "metadata": {
        "id": "xCIwmajKw9xY"
      }
    },
    {
      "cell_type": "code",
      "source": [
        "df.select([Sp.count(Sp.when(Sp.col(c).isNull(), c)).alias(c) for c in df.columns]).show()"
      ],
      "metadata": {
        "id": "r0iE_P63zLMD",
        "colab": {
          "base_uri": "https://localhost:8080/"
        },
        "outputId": "70eacd08-68f5-47af-ad89-07c4af634c72"
      },
      "execution_count": 122,
      "outputs": [
        {
          "output_type": "stream",
          "name": "stdout",
          "text": [
            "+---+--------+----+----------+------+--------------+------------------------+------------------------------+-------------+-------------------+-------------+---------+------------+\n",
            "| Id|Cinsiyet|Evli|Bakımlılar|Eğitim|Serbest Meslek|Başvuru Sahibinin Geliri|Ortak Başvuru Sahibinin Geliri|Kredi miktarı|Kredi Tutarı Vadesi|Kredi geçmişi|Mülk_Alan|Kredi_Durumu|\n",
            "+---+--------+----+----------+------+--------------+------------------------+------------------------------+-------------+-------------------+-------------+---------+------------+\n",
            "|  0|      13|   3|        15|     0|            32|                       0|                             0|           22|                 14|           50|        0|           0|\n",
            "+---+--------+----+----------+------+--------------+------------------------+------------------------------+-------------+-------------------+-------------+---------+------------+\n",
            "\n"
          ]
        }
      ]
    },
    {
      "cell_type": "markdown",
      "source": [
        "'Kredi miktarı' sütunundaki değerlerin ortalamasını hesapladık"
      ],
      "metadata": {
        "id": "InWa0T8cxKvN"
      }
    },
    {
      "cell_type": "code",
      "source": [
        "mean = df.select(Sp.mean(df['Kredi miktarı'])).collect()[0][0]# collect()\n",
        "mean"
      ],
      "metadata": {
        "id": "h5_oiSJpARF6",
        "colab": {
          "base_uri": "https://localhost:8080/"
        },
        "outputId": "8a565483-8368-4730-e2c1-81f49e7dd652"
      },
      "execution_count": 123,
      "outputs": [
        {
          "output_type": "execute_result",
          "data": {
            "text/plain": [
              "146.41216216216216"
            ]
          },
          "metadata": {},
          "execution_count": 123
        }
      ]
    },
    {
      "cell_type": "markdown",
      "source": [
        "Eksik verileri doldurma işlemi yaptık"
      ],
      "metadata": {
        "id": "WAfzg0y_xTnD"
      }
    },
    {
      "cell_type": "code",
      "source": [
        "df = df.na.fill(mean, ['Kredi miktarı'])"
      ],
      "metadata": {
        "id": "yUDOjpx-vo9p"
      },
      "execution_count": 124,
      "outputs": []
    },
    {
      "cell_type": "markdown",
      "source": [
        "Bu kod en çok tekrar eden cinsiyeti verir"
      ],
      "metadata": {
        "id": "AMigQ9Pix5By"
      }
    },
    {
      "cell_type": "code",
      "source": [
        "df.groupby('Cinsiyet').count().orderBy(\"count\", ascending=False).first()[0]"
      ],
      "metadata": {
        "id": "ff7Kkltgvo5j",
        "colab": {
          "base_uri": "https://localhost:8080/",
          "height": 36
        },
        "outputId": "b0d9c4d6-c7ca-4b7d-d878-d411cb84e20b"
      },
      "execution_count": 125,
      "outputs": [
        {
          "output_type": "execute_result",
          "data": {
            "text/plain": [
              "'Male'"
            ],
            "application/vnd.google.colaboratory.intrinsic+json": {
              "type": "string"
            }
          },
          "metadata": {},
          "execution_count": 125
        }
      ]
    },
    {
      "cell_type": "code",
      "source": [
        "numerical_cols = ['Kredi miktarı', 'Kredi Tutarı Vadesi']\n",
        "categorical_cols = ['Cinsiyet', 'Evli', 'Bakımlılar', 'Serbest Meslek', 'Kredi geçmişi']"
      ],
      "metadata": {
        "id": "O-qe5pkWvqY6"
      },
      "execution_count": 126,
      "outputs": []
    },
    {
      "cell_type": "markdown",
      "source": [
        "be sütunlardaki eksik değerleri bu sütunların ortalaması ile doldurdum"
      ],
      "metadata": {
        "id": "n4NDRR5myGUl"
      }
    },
    {
      "cell_type": "code",
      "source": [
        "for col in numerical_cols:\n",
        "    mean = df.select(Sp.mean(df[col])).collect()[0][0]\n",
        "    df = df.na.fill(mean, [col])"
      ],
      "metadata": {
        "id": "BmW0PVfFvqWa"
      },
      "execution_count": 127,
      "outputs": []
    },
    {
      "cell_type": "code",
      "source": [
        "for col in categorical_cols:\n",
        "    mode = df.groupby(col).count().orderBy(\"count\", ascending=False).first()[0]\n",
        "    df = df.na.fill(mode, [col])"
      ],
      "metadata": {
        "id": "r4HslSQKvqTz"
      },
      "execution_count": 128,
      "outputs": []
    },
    {
      "cell_type": "markdown",
      "source": [
        "Eksik verim varmı diye kontrol ettim"
      ],
      "metadata": {
        "id": "gg__MnrSylbn"
      }
    },
    {
      "cell_type": "code",
      "source": [
        "df.select([Sp.count(Sp.when(Sp.col(c).isNull(), c)).alias(c) for c in df.columns]).show()"
      ],
      "metadata": {
        "id": "w2d8g_xYvo27",
        "colab": {
          "base_uri": "https://localhost:8080/"
        },
        "outputId": "bc74bac3-2332-4f84-8ec6-d42eb62484e2"
      },
      "execution_count": 129,
      "outputs": [
        {
          "output_type": "stream",
          "name": "stdout",
          "text": [
            "+---+--------+----+----------+------+--------------+------------------------+------------------------------+-------------+-------------------+-------------+---------+------------+\n",
            "| Id|Cinsiyet|Evli|Bakımlılar|Eğitim|Serbest Meslek|Başvuru Sahibinin Geliri|Ortak Başvuru Sahibinin Geliri|Kredi miktarı|Kredi Tutarı Vadesi|Kredi geçmişi|Mülk_Alan|Kredi_Durumu|\n",
            "+---+--------+----+----------+------+--------------+------------------------+------------------------------+-------------+-------------------+-------------+---------+------------+\n",
            "|  0|       0|   0|         0|     0|             0|                       0|                             0|            0|                  0|            0|        0|           0|\n",
            "+---+--------+----+----------+------+--------------+------------------------+------------------------------+-------------+-------------------+-------------+---------+------------+\n",
            "\n"
          ]
        }
      ]
    },
    {
      "cell_type": "markdown",
      "source": [
        "'Başvuru Sahibinin Geliri' ve 'Ortak Başvuru Sahibinin Geliri' sütunlarındaki değerlerin toplamını alarak yeni bir 'Toplam gelir' sütunu oluşturdum"
      ],
      "metadata": {
        "id": "Cf6nliFqyxBy"
      }
    },
    {
      "cell_type": "code",
      "source": [
        "df = df.withColumn('Toplam gelir', Sp.col('Başvuru Sahibinin Geliri') + Sp.col('Ortak Başvuru Sahibinin Geliri'))\n",
        "df.show(5)"
      ],
      "metadata": {
        "id": "-bX71Dg6voxT",
        "colab": {
          "base_uri": "https://localhost:8080/"
        },
        "outputId": "8ed913af-3ead-465c-dd49-f0704a24b587"
      },
      "execution_count": 130,
      "outputs": [
        {
          "output_type": "stream",
          "name": "stdout",
          "text": [
            "+--------+--------+----+----------+------------+--------------+------------------------+------------------------------+-------------+-------------------+-------------+---------+------------+------------+\n",
            "|      Id|Cinsiyet|Evli|Bakımlılar|      Eğitim|Serbest Meslek|Başvuru Sahibinin Geliri|Ortak Başvuru Sahibinin Geliri|Kredi miktarı|Kredi Tutarı Vadesi|Kredi geçmişi|Mülk_Alan|Kredi_Durumu|Toplam gelir|\n",
            "+--------+--------+----+----------+------------+--------------+------------------------+------------------------------+-------------+-------------------+-------------+---------+------------+------------+\n",
            "|LP001002|    Male|  No|         0|    Graduate|            No|                    5849|                           0.0|          146|                360|            1|    Urban|           Y|      5849.0|\n",
            "|LP001003|    Male| Yes|         1|    Graduate|            No|                    4583|                        1508.0|          128|                360|            1|    Rural|           N|      6091.0|\n",
            "|LP001005|    Male| Yes|         0|    Graduate|           Yes|                    3000|                           0.0|           66|                360|            1|    Urban|           Y|      3000.0|\n",
            "|LP001006|    Male| Yes|         0|Not Graduate|            No|                    2583|                        2358.0|          120|                360|            1|    Urban|           Y|      4941.0|\n",
            "|LP001008|    Male|  No|         0|    Graduate|            No|                    6000|                           0.0|          141|                360|            1|    Urban|           Y|      6000.0|\n",
            "+--------+--------+----+----------+------------+--------------+------------------------+------------------------------+-------------+-------------------+-------------+---------+------------+------------+\n",
            "only showing top 5 rows\n",
            "\n"
          ]
        }
      ]
    },
    {
      "cell_type": "markdown",
      "source": [
        "'Kredi_Durumu' sütununda 'Y' değeri varsa, bu değeri 1 olarak ayarlar, aksi halde 0 olarak ayarladım"
      ],
      "metadata": {
        "id": "gI3h1_CbzGVG"
      }
    },
    {
      "cell_type": "code",
      "source": [
        "df = df.withColumn('Kredi_Durumu', Sp.when(df['Kredi_Durumu']=='Y', 1).otherwise(0))\n",
        "df.show(5)"
      ],
      "metadata": {
        "colab": {
          "base_uri": "https://localhost:8080/"
        },
        "id": "WQPGPryAqTxn",
        "outputId": "1916916f-3af0-48da-8d8d-3f500a03d915"
      },
      "execution_count": 131,
      "outputs": [
        {
          "output_type": "stream",
          "name": "stdout",
          "text": [
            "+--------+--------+----+----------+------------+--------------+------------------------+------------------------------+-------------+-------------------+-------------+---------+------------+------------+\n",
            "|      Id|Cinsiyet|Evli|Bakımlılar|      Eğitim|Serbest Meslek|Başvuru Sahibinin Geliri|Ortak Başvuru Sahibinin Geliri|Kredi miktarı|Kredi Tutarı Vadesi|Kredi geçmişi|Mülk_Alan|Kredi_Durumu|Toplam gelir|\n",
            "+--------+--------+----+----------+------------+--------------+------------------------+------------------------------+-------------+-------------------+-------------+---------+------------+------------+\n",
            "|LP001002|    Male|  No|         0|    Graduate|            No|                    5849|                           0.0|          146|                360|            1|    Urban|           1|      5849.0|\n",
            "|LP001003|    Male| Yes|         1|    Graduate|            No|                    4583|                        1508.0|          128|                360|            1|    Rural|           0|      6091.0|\n",
            "|LP001005|    Male| Yes|         0|    Graduate|           Yes|                    3000|                           0.0|           66|                360|            1|    Urban|           1|      3000.0|\n",
            "|LP001006|    Male| Yes|         0|Not Graduate|            No|                    2583|                        2358.0|          120|                360|            1|    Urban|           1|      4941.0|\n",
            "|LP001008|    Male|  No|         0|    Graduate|            No|                    6000|                           0.0|          141|                360|            1|    Urban|           1|      6000.0|\n",
            "+--------+--------+----+----------+------------+--------------+------------------------+------------------------------+-------------+-------------------+-------------+---------+------------+------------+\n",
            "only showing top 5 rows\n",
            "\n"
          ]
        }
      ]
    },
    {
      "cell_type": "code",
      "source": [
        "df.printSchema()"
      ],
      "metadata": {
        "colab": {
          "base_uri": "https://localhost:8080/"
        },
        "id": "2VjmWho2qT0d",
        "outputId": "3ca43f52-e737-4095-9a33-9f1bfe28f17d"
      },
      "execution_count": 132,
      "outputs": [
        {
          "output_type": "stream",
          "name": "stdout",
          "text": [
            "root\n",
            " |-- Id: string (nullable = true)\n",
            " |-- Cinsiyet: string (nullable = false)\n",
            " |-- Evli: string (nullable = false)\n",
            " |-- Bakımlılar: string (nullable = false)\n",
            " |-- Eğitim: string (nullable = true)\n",
            " |-- Serbest Meslek: string (nullable = false)\n",
            " |-- Başvuru Sahibinin Geliri: integer (nullable = true)\n",
            " |-- Ortak Başvuru Sahibinin Geliri: double (nullable = true)\n",
            " |-- Kredi miktarı: integer (nullable = true)\n",
            " |-- Kredi Tutarı Vadesi: integer (nullable = true)\n",
            " |-- Kredi geçmişi: integer (nullable = true)\n",
            " |-- Mülk_Alan: string (nullable = true)\n",
            " |-- Kredi_Durumu: integer (nullable = false)\n",
            " |-- Toplam gelir: double (nullable = true)\n",
            "\n"
          ]
        }
      ]
    },
    {
      "cell_type": "code",
      "source": [
        "from pyspark.ml.feature import VectorAssembler, OneHotEncoder, StringIndexer\n",
        "from pyspark.ml import Pipeline"
      ],
      "metadata": {
        "id": "orOpIA3oqT5t"
      },
      "execution_count": 133,
      "outputs": []
    },
    {
      "cell_type": "code",
      "source": [
        "categorical_columns = ['Cinsiyet', 'Evli', 'Bakımlılar', 'Eğitim', 'Serbest Meslek', 'Mülk_Alan', 'Kredi geçmişi']\n",
        "numerical_columns = ['Başvuru Sahibinin Geliri', 'Ortak Başvuru Sahibinin Geliri', 'Kredi miktarı', 'Kredi Tutarı Vadesi', 'Toplam gelir']"
      ],
      "metadata": {
        "id": "Wci5V5rjqT8m"
      },
      "execution_count": 134,
      "outputs": []
    },
    {
      "cell_type": "markdown",
      "source": [
        " kategorik sütunların dizinlenmesi, ardından ikili vektör haline getirilmesi ve sayısal sütunlarla birleştirilerek bir özellik vektörü oluşturulması için gerekli işlemleri gerçekleştirdim"
      ],
      "metadata": {
        "id": "iRcrZ_8bzQbm"
      }
    },
    {
      "cell_type": "code",
      "source": [
        "indexers = [StringIndexer(inputCol=col, outputCol=\"{0}_index\".format(col)) for col in categorical_columns]#outputCol=\"{0}_index\".format(col) bu yeni sütun adını belirler.\n",
        "encoders = [OneHotEncoder(dropLast=False, inputCol=indexer.getOutputCol(), outputCol=\"{0}_encoded\".format(indexer.getOutputCol())) for indexer in indexers]#getOutputCol  outputCol'dan ismi cekern bu kadar.\n",
        "input_columns = [encoder.getOutputCol() for encoder in encoders] + numerical_columns\n",
        "assembler = VectorAssembler(inputCols=input_columns, outputCol=\"feature\")"
      ],
      "metadata": {
        "id": "kmByP2Y4qUC6"
      },
      "execution_count": 135,
      "outputs": []
    },
    {
      "cell_type": "markdown",
      "source": [
        "pipeline oluşturdum"
      ],
      "metadata": {
        "id": "4oJFAvX5z5Ew"
      }
    },
    {
      "cell_type": "code",
      "source": [
        "pipeline = Pipeline(stages = indexers + encoders + [assembler])"
      ],
      "metadata": {
        "id": "1QOQG8UvzCJB"
      },
      "execution_count": 136,
      "outputs": []
    },
    {
      "cell_type": "markdown",
      "source": [
        "makine öğrenimi modeli için DataFrame'i hazırlıyoruz"
      ],
      "metadata": {
        "id": "qHXhzc1D0hED"
      }
    },
    {
      "cell_type": "code",
      "source": [
        "data_model = pipeline.fit(df)"
      ],
      "metadata": {
        "id": "JSrSKjhzzCFW"
      },
      "execution_count": 137,
      "outputs": []
    },
    {
      "cell_type": "code",
      "source": [
        "transformed_df = data_model.transform(df)\n",
        "transformed_df.show(1)"
      ],
      "metadata": {
        "colab": {
          "base_uri": "https://localhost:8080/"
        },
        "id": "yWtKiwz-WJ9d",
        "outputId": "d3da2f1a-3591-4750-bad5-bcac9aef55d6"
      },
      "execution_count": 138,
      "outputs": [
        {
          "output_type": "stream",
          "name": "stdout",
          "text": [
            "+--------+--------+----+----------+--------+--------------+------------------------+------------------------------+-------------+-------------------+-------------+---------+------------+------------+--------------+----------+----------------+------------+--------------------+---------------+-------------------+----------------------+------------------+------------------------+--------------------+----------------------------+-----------------------+---------------------------+--------------------+\n",
            "|      Id|Cinsiyet|Evli|Bakımlılar|  Eğitim|Serbest Meslek|Başvuru Sahibinin Geliri|Ortak Başvuru Sahibinin Geliri|Kredi miktarı|Kredi Tutarı Vadesi|Kredi geçmişi|Mülk_Alan|Kredi_Durumu|Toplam gelir|Cinsiyet_index|Evli_index|Bakımlılar_index|Eğitim_index|Serbest Meslek_index|Mülk_Alan_index|Kredi geçmişi_index|Cinsiyet_index_encoded|Evli_index_encoded|Bakımlılar_index_encoded|Eğitim_index_encoded|Serbest Meslek_index_encoded|Mülk_Alan_index_encoded|Kredi geçmişi_index_encoded|             feature|\n",
            "+--------+--------+----+----------+--------+--------------+------------------------+------------------------------+-------------+-------------------+-------------+---------+------------+------------+--------------+----------+----------------+------------+--------------------+---------------+-------------------+----------------------+------------------+------------------------+--------------------+----------------------------+-----------------------+---------------------------+--------------------+\n",
            "|LP001002|    Male|  No|         0|Graduate|            No|                    5849|                           0.0|          146|                360|            1|    Urban|           1|      5849.0|           0.0|       1.0|             0.0|         0.0|                 0.0|            1.0|                0.0|         (2,[0],[1.0])|     (2,[1],[1.0])|           (4,[0],[1.0])|       (2,[0],[1.0])|               (2,[0],[1.0])|          (3,[1],[1.0])|              (2,[0],[1.0])|(22,[0,3,4,8,10,1...|\n",
            "+--------+--------+----+----------+--------+--------------+------------------------+------------------------------+-------------+-------------------+-------------+---------+------------+------------+--------------+----------+----------------+------------+--------------------+---------------+-------------------+----------------------+------------------+------------------------+--------------------+----------------------------+-----------------------+---------------------------+--------------------+\n",
            "only showing top 1 row\n",
            "\n"
          ]
        }
      ]
    },
    {
      "cell_type": "code",
      "source": [
        "transformed_df = transformed_df.select(['feature', 'Kredi_Durumu'])\n",
        "train_data, test_data = transformed_df.randomSplit([0.8, 0.2], seed=42)\n",
        "train_data.show(5)"
      ],
      "metadata": {
        "id": "od2AaP_3zCCW",
        "colab": {
          "base_uri": "https://localhost:8080/"
        },
        "outputId": "a86904fe-3635-449b-ee82-fdf6b36bed6d"
      },
      "execution_count": 139,
      "outputs": [
        {
          "output_type": "stream",
          "name": "stdout",
          "text": [
            "+--------------------+------------+\n",
            "|             feature|Kredi_Durumu|\n",
            "+--------------------+------------+\n",
            "|(22,[0,2,4,8,10,1...|           1|\n",
            "|(22,[0,2,4,8,10,1...|           1|\n",
            "|(22,[0,2,4,8,10,1...|           0|\n",
            "|(22,[0,2,4,8,10,1...|           1|\n",
            "|(22,[0,2,4,8,10,1...|           1|\n",
            "+--------------------+------------+\n",
            "only showing top 5 rows\n",
            "\n"
          ]
        }
      ]
    },
    {
      "cell_type": "code",
      "source": [
        "from pyspark.ml.classification import LogisticRegression, RandomForestClassifier\n",
        "from pyspark.ml.evaluation import BinaryClassificationEvaluator"
      ],
      "metadata": {
        "id": "1inpldbxzB-3"
      },
      "execution_count": 140,
      "outputs": []
    },
    {
      "cell_type": "code",
      "source": [
        "lr = LogisticRegression(featuresCol='feature', labelCol='Kredi_Durumu')\n",
        "lr_model = lr.fit(train_data)"
      ],
      "metadata": {
        "id": "nsWPmcNNzB7x"
      },
      "execution_count": 153,
      "outputs": []
    },
    {
      "cell_type": "code",
      "source": [
        "predictions = lr_model.transform(test_data)\n",
        "predictions.show(5)"
      ],
      "metadata": {
        "id": "lGysNJrTzB2N",
        "colab": {
          "base_uri": "https://localhost:8080/"
        },
        "outputId": "f267011f-0959-434f-bae6-206137b9490e"
      },
      "execution_count": 154,
      "outputs": [
        {
          "output_type": "stream",
          "name": "stdout",
          "text": [
            "+--------------------+------------+--------------------+--------------------+----------+\n",
            "|             feature|Kredi_Durumu|       rawPrediction|         probability|prediction|\n",
            "+--------------------+------------+--------------------+--------------------+----------+\n",
            "|(22,[0,2,4,8,10,1...|           1|[-2.1309019654107...|[0.10612939546952...|       1.0|\n",
            "|(22,[0,2,4,8,10,1...|           1|[-2.1965880165663...|[0.10005730505861...|       1.0|\n",
            "|(22,[0,2,4,8,10,1...|           1|[-2.1183870711017...|[0.10732249829704...|       1.0|\n",
            "|(22,[0,2,4,8,10,1...|           1|[-2.1420673697694...|[0.10507482746799...|       1.0|\n",
            "|(22,[0,2,4,8,10,1...|           1|[-2.1120272450757...|[0.10793332086955...|       1.0|\n",
            "+--------------------+------------+--------------------+--------------------+----------+\n",
            "only showing top 5 rows\n",
            "\n"
          ]
        }
      ]
    },
    {
      "cell_type": "markdown",
      "source": [
        "BinaryClassificationEvaluator yardımı ile Logistic Regression ve RandomForestClassifier performans ölcümü yaptım."
      ],
      "metadata": {
        "id": "AxEartk51jN7"
      }
    },
    {
      "cell_type": "code",
      "source": [
        "predictions = lr_model.transform(test_data)\n",
        "auc = BinaryClassificationEvaluator().setLabelCol('Kredi_Durumu')\n",
        "print('AUC:', str(auc.evaluate(predictions)))"
      ],
      "metadata": {
        "id": "7icfY633zBzt",
        "colab": {
          "base_uri": "https://localhost:8080/"
        },
        "outputId": "01fde46b-18ff-49b5-9554-f306526af51c"
      },
      "execution_count": 155,
      "outputs": [
        {
          "output_type": "stream",
          "name": "stdout",
          "text": [
            "AUC: 0.782010582010582\n"
          ]
        }
      ]
    },
    {
      "cell_type": "code",
      "source": [
        "rf = RandomForestClassifier(featuresCol='feature', labelCol='Kredi_Durumu')\n",
        "rf_model = rf.fit(train_data)"
      ],
      "metadata": {
        "id": "M0xSZXLHzBw2"
      },
      "execution_count": 144,
      "outputs": []
    },
    {
      "cell_type": "code",
      "source": [
        "predictions = rf_model.transform(test_data)\n",
        "auc = BinaryClassificationEvaluator().setLabelCol('Kredi_Durumu')\n",
        "print('AUC:', str(auc.evaluate(predictions)))"
      ],
      "metadata": {
        "id": "ESRtrXErzBuB",
        "colab": {
          "base_uri": "https://localhost:8080/"
        },
        "outputId": "113e4284-cc5a-46b3-a268-0a7e8378b71e"
      },
      "execution_count": 145,
      "outputs": [
        {
          "output_type": "stream",
          "name": "stdout",
          "text": [
            "AUC: 0.8227513227513228\n"
          ]
        }
      ]
    },
    {
      "cell_type": "markdown",
      "source": [
        "DataFrame'deki verileri Pandas DataFrame'ine dönüştürüp gösterme işlemi gerçekleştiyiyorum"
      ],
      "metadata": {
        "id": "YsiabN7v0oQH"
      }
    },
    {
      "cell_type": "code",
      "source": [
        "df_pandas = df.toPandas()\n",
        "df_pandas.head()"
      ],
      "metadata": {
        "id": "QfkrcPWxYZyI",
        "colab": {
          "base_uri": "https://localhost:8080/",
          "height": 241
        },
        "outputId": "5aaaab05-9bde-47bc-998b-b4c852faa5fb"
      },
      "execution_count": 156,
      "outputs": [
        {
          "output_type": "execute_result",
          "data": {
            "text/plain": [
              "         Id Cinsiyet Evli Bakımlılar        Eğitim Serbest Meslek  \\\n",
              "0  LP001002     Male   No          0      Graduate             No   \n",
              "1  LP001003     Male  Yes          1      Graduate             No   \n",
              "2  LP001005     Male  Yes          0      Graduate            Yes   \n",
              "3  LP001006     Male  Yes          0  Not Graduate             No   \n",
              "4  LP001008     Male   No          0      Graduate             No   \n",
              "\n",
              "   Başvuru Sahibinin Geliri  Ortak Başvuru Sahibinin Geliri  Kredi miktarı  \\\n",
              "0                      5849                             0.0            146   \n",
              "1                      4583                          1508.0            128   \n",
              "2                      3000                             0.0             66   \n",
              "3                      2583                          2358.0            120   \n",
              "4                      6000                             0.0            141   \n",
              "\n",
              "   Kredi Tutarı Vadesi  Kredi geçmişi Mülk_Alan  Kredi_Durumu  Toplam gelir  \n",
              "0                  360              1     Urban             1        5849.0  \n",
              "1                  360              1     Rural             0        6091.0  \n",
              "2                  360              1     Urban             1        3000.0  \n",
              "3                  360              1     Urban             1        4941.0  \n",
              "4                  360              1     Urban             1        6000.0  "
            ],
            "text/html": [
              "\n",
              "  <div id=\"df-e89f17fe-a6e5-42e8-9131-6e606ccd448d\" class=\"colab-df-container\">\n",
              "    <div>\n",
              "<style scoped>\n",
              "    .dataframe tbody tr th:only-of-type {\n",
              "        vertical-align: middle;\n",
              "    }\n",
              "\n",
              "    .dataframe tbody tr th {\n",
              "        vertical-align: top;\n",
              "    }\n",
              "\n",
              "    .dataframe thead th {\n",
              "        text-align: right;\n",
              "    }\n",
              "</style>\n",
              "<table border=\"1\" class=\"dataframe\">\n",
              "  <thead>\n",
              "    <tr style=\"text-align: right;\">\n",
              "      <th></th>\n",
              "      <th>Id</th>\n",
              "      <th>Cinsiyet</th>\n",
              "      <th>Evli</th>\n",
              "      <th>Bakımlılar</th>\n",
              "      <th>Eğitim</th>\n",
              "      <th>Serbest Meslek</th>\n",
              "      <th>Başvuru Sahibinin Geliri</th>\n",
              "      <th>Ortak Başvuru Sahibinin Geliri</th>\n",
              "      <th>Kredi miktarı</th>\n",
              "      <th>Kredi Tutarı Vadesi</th>\n",
              "      <th>Kredi geçmişi</th>\n",
              "      <th>Mülk_Alan</th>\n",
              "      <th>Kredi_Durumu</th>\n",
              "      <th>Toplam gelir</th>\n",
              "    </tr>\n",
              "  </thead>\n",
              "  <tbody>\n",
              "    <tr>\n",
              "      <th>0</th>\n",
              "      <td>LP001002</td>\n",
              "      <td>Male</td>\n",
              "      <td>No</td>\n",
              "      <td>0</td>\n",
              "      <td>Graduate</td>\n",
              "      <td>No</td>\n",
              "      <td>5849</td>\n",
              "      <td>0.0</td>\n",
              "      <td>146</td>\n",
              "      <td>360</td>\n",
              "      <td>1</td>\n",
              "      <td>Urban</td>\n",
              "      <td>1</td>\n",
              "      <td>5849.0</td>\n",
              "    </tr>\n",
              "    <tr>\n",
              "      <th>1</th>\n",
              "      <td>LP001003</td>\n",
              "      <td>Male</td>\n",
              "      <td>Yes</td>\n",
              "      <td>1</td>\n",
              "      <td>Graduate</td>\n",
              "      <td>No</td>\n",
              "      <td>4583</td>\n",
              "      <td>1508.0</td>\n",
              "      <td>128</td>\n",
              "      <td>360</td>\n",
              "      <td>1</td>\n",
              "      <td>Rural</td>\n",
              "      <td>0</td>\n",
              "      <td>6091.0</td>\n",
              "    </tr>\n",
              "    <tr>\n",
              "      <th>2</th>\n",
              "      <td>LP001005</td>\n",
              "      <td>Male</td>\n",
              "      <td>Yes</td>\n",
              "      <td>0</td>\n",
              "      <td>Graduate</td>\n",
              "      <td>Yes</td>\n",
              "      <td>3000</td>\n",
              "      <td>0.0</td>\n",
              "      <td>66</td>\n",
              "      <td>360</td>\n",
              "      <td>1</td>\n",
              "      <td>Urban</td>\n",
              "      <td>1</td>\n",
              "      <td>3000.0</td>\n",
              "    </tr>\n",
              "    <tr>\n",
              "      <th>3</th>\n",
              "      <td>LP001006</td>\n",
              "      <td>Male</td>\n",
              "      <td>Yes</td>\n",
              "      <td>0</td>\n",
              "      <td>Not Graduate</td>\n",
              "      <td>No</td>\n",
              "      <td>2583</td>\n",
              "      <td>2358.0</td>\n",
              "      <td>120</td>\n",
              "      <td>360</td>\n",
              "      <td>1</td>\n",
              "      <td>Urban</td>\n",
              "      <td>1</td>\n",
              "      <td>4941.0</td>\n",
              "    </tr>\n",
              "    <tr>\n",
              "      <th>4</th>\n",
              "      <td>LP001008</td>\n",
              "      <td>Male</td>\n",
              "      <td>No</td>\n",
              "      <td>0</td>\n",
              "      <td>Graduate</td>\n",
              "      <td>No</td>\n",
              "      <td>6000</td>\n",
              "      <td>0.0</td>\n",
              "      <td>141</td>\n",
              "      <td>360</td>\n",
              "      <td>1</td>\n",
              "      <td>Urban</td>\n",
              "      <td>1</td>\n",
              "      <td>6000.0</td>\n",
              "    </tr>\n",
              "  </tbody>\n",
              "</table>\n",
              "</div>\n",
              "    <div class=\"colab-df-buttons\">\n",
              "\n",
              "  <div class=\"colab-df-container\">\n",
              "    <button class=\"colab-df-convert\" onclick=\"convertToInteractive('df-e89f17fe-a6e5-42e8-9131-6e606ccd448d')\"\n",
              "            title=\"Convert this dataframe to an interactive table.\"\n",
              "            style=\"display:none;\">\n",
              "\n",
              "  <svg xmlns=\"http://www.w3.org/2000/svg\" height=\"24px\" viewBox=\"0 -960 960 960\">\n",
              "    <path d=\"M120-120v-720h720v720H120Zm60-500h600v-160H180v160Zm220 220h160v-160H400v160Zm0 220h160v-160H400v160ZM180-400h160v-160H180v160Zm440 0h160v-160H620v160ZM180-180h160v-160H180v160Zm440 0h160v-160H620v160Z\"/>\n",
              "  </svg>\n",
              "    </button>\n",
              "\n",
              "  <style>\n",
              "    .colab-df-container {\n",
              "      display:flex;\n",
              "      gap: 12px;\n",
              "    }\n",
              "\n",
              "    .colab-df-convert {\n",
              "      background-color: #E8F0FE;\n",
              "      border: none;\n",
              "      border-radius: 50%;\n",
              "      cursor: pointer;\n",
              "      display: none;\n",
              "      fill: #1967D2;\n",
              "      height: 32px;\n",
              "      padding: 0 0 0 0;\n",
              "      width: 32px;\n",
              "    }\n",
              "\n",
              "    .colab-df-convert:hover {\n",
              "      background-color: #E2EBFA;\n",
              "      box-shadow: 0px 1px 2px rgba(60, 64, 67, 0.3), 0px 1px 3px 1px rgba(60, 64, 67, 0.15);\n",
              "      fill: #174EA6;\n",
              "    }\n",
              "\n",
              "    .colab-df-buttons div {\n",
              "      margin-bottom: 4px;\n",
              "    }\n",
              "\n",
              "    [theme=dark] .colab-df-convert {\n",
              "      background-color: #3B4455;\n",
              "      fill: #D2E3FC;\n",
              "    }\n",
              "\n",
              "    [theme=dark] .colab-df-convert:hover {\n",
              "      background-color: #434B5C;\n",
              "      box-shadow: 0px 1px 3px 1px rgba(0, 0, 0, 0.15);\n",
              "      filter: drop-shadow(0px 1px 2px rgba(0, 0, 0, 0.3));\n",
              "      fill: #FFFFFF;\n",
              "    }\n",
              "  </style>\n",
              "\n",
              "    <script>\n",
              "      const buttonEl =\n",
              "        document.querySelector('#df-e89f17fe-a6e5-42e8-9131-6e606ccd448d button.colab-df-convert');\n",
              "      buttonEl.style.display =\n",
              "        google.colab.kernel.accessAllowed ? 'block' : 'none';\n",
              "\n",
              "      async function convertToInteractive(key) {\n",
              "        const element = document.querySelector('#df-e89f17fe-a6e5-42e8-9131-6e606ccd448d');\n",
              "        const dataTable =\n",
              "          await google.colab.kernel.invokeFunction('convertToInteractive',\n",
              "                                                    [key], {});\n",
              "        if (!dataTable) return;\n",
              "\n",
              "        const docLinkHtml = 'Like what you see? Visit the ' +\n",
              "          '<a target=\"_blank\" href=https://colab.research.google.com/notebooks/data_table.ipynb>data table notebook</a>'\n",
              "          + ' to learn more about interactive tables.';\n",
              "        element.innerHTML = '';\n",
              "        dataTable['output_type'] = 'display_data';\n",
              "        await google.colab.output.renderOutput(dataTable, element);\n",
              "        const docLink = document.createElement('div');\n",
              "        docLink.innerHTML = docLinkHtml;\n",
              "        element.appendChild(docLink);\n",
              "      }\n",
              "    </script>\n",
              "  </div>\n",
              "\n",
              "\n",
              "<div id=\"df-2aff7820-1647-4584-b71e-765aedd6b28d\">\n",
              "  <button class=\"colab-df-quickchart\" onclick=\"quickchart('df-2aff7820-1647-4584-b71e-765aedd6b28d')\"\n",
              "            title=\"Suggest charts\"\n",
              "            style=\"display:none;\">\n",
              "\n",
              "<svg xmlns=\"http://www.w3.org/2000/svg\" height=\"24px\"viewBox=\"0 0 24 24\"\n",
              "     width=\"24px\">\n",
              "    <g>\n",
              "        <path d=\"M19 3H5c-1.1 0-2 .9-2 2v14c0 1.1.9 2 2 2h14c1.1 0 2-.9 2-2V5c0-1.1-.9-2-2-2zM9 17H7v-7h2v7zm4 0h-2V7h2v10zm4 0h-2v-4h2v4z\"/>\n",
              "    </g>\n",
              "</svg>\n",
              "  </button>\n",
              "\n",
              "<style>\n",
              "  .colab-df-quickchart {\n",
              "      --bg-color: #E8F0FE;\n",
              "      --fill-color: #1967D2;\n",
              "      --hover-bg-color: #E2EBFA;\n",
              "      --hover-fill-color: #174EA6;\n",
              "      --disabled-fill-color: #AAA;\n",
              "      --disabled-bg-color: #DDD;\n",
              "  }\n",
              "\n",
              "  [theme=dark] .colab-df-quickchart {\n",
              "      --bg-color: #3B4455;\n",
              "      --fill-color: #D2E3FC;\n",
              "      --hover-bg-color: #434B5C;\n",
              "      --hover-fill-color: #FFFFFF;\n",
              "      --disabled-bg-color: #3B4455;\n",
              "      --disabled-fill-color: #666;\n",
              "  }\n",
              "\n",
              "  .colab-df-quickchart {\n",
              "    background-color: var(--bg-color);\n",
              "    border: none;\n",
              "    border-radius: 50%;\n",
              "    cursor: pointer;\n",
              "    display: none;\n",
              "    fill: var(--fill-color);\n",
              "    height: 32px;\n",
              "    padding: 0;\n",
              "    width: 32px;\n",
              "  }\n",
              "\n",
              "  .colab-df-quickchart:hover {\n",
              "    background-color: var(--hover-bg-color);\n",
              "    box-shadow: 0 1px 2px rgba(60, 64, 67, 0.3), 0 1px 3px 1px rgba(60, 64, 67, 0.15);\n",
              "    fill: var(--button-hover-fill-color);\n",
              "  }\n",
              "\n",
              "  .colab-df-quickchart-complete:disabled,\n",
              "  .colab-df-quickchart-complete:disabled:hover {\n",
              "    background-color: var(--disabled-bg-color);\n",
              "    fill: var(--disabled-fill-color);\n",
              "    box-shadow: none;\n",
              "  }\n",
              "\n",
              "  .colab-df-spinner {\n",
              "    border: 2px solid var(--fill-color);\n",
              "    border-color: transparent;\n",
              "    border-bottom-color: var(--fill-color);\n",
              "    animation:\n",
              "      spin 1s steps(1) infinite;\n",
              "  }\n",
              "\n",
              "  @keyframes spin {\n",
              "    0% {\n",
              "      border-color: transparent;\n",
              "      border-bottom-color: var(--fill-color);\n",
              "      border-left-color: var(--fill-color);\n",
              "    }\n",
              "    20% {\n",
              "      border-color: transparent;\n",
              "      border-left-color: var(--fill-color);\n",
              "      border-top-color: var(--fill-color);\n",
              "    }\n",
              "    30% {\n",
              "      border-color: transparent;\n",
              "      border-left-color: var(--fill-color);\n",
              "      border-top-color: var(--fill-color);\n",
              "      border-right-color: var(--fill-color);\n",
              "    }\n",
              "    40% {\n",
              "      border-color: transparent;\n",
              "      border-right-color: var(--fill-color);\n",
              "      border-top-color: var(--fill-color);\n",
              "    }\n",
              "    60% {\n",
              "      border-color: transparent;\n",
              "      border-right-color: var(--fill-color);\n",
              "    }\n",
              "    80% {\n",
              "      border-color: transparent;\n",
              "      border-right-color: var(--fill-color);\n",
              "      border-bottom-color: var(--fill-color);\n",
              "    }\n",
              "    90% {\n",
              "      border-color: transparent;\n",
              "      border-bottom-color: var(--fill-color);\n",
              "    }\n",
              "  }\n",
              "</style>\n",
              "\n",
              "  <script>\n",
              "    async function quickchart(key) {\n",
              "      const quickchartButtonEl =\n",
              "        document.querySelector('#' + key + ' button');\n",
              "      quickchartButtonEl.disabled = true;  // To prevent multiple clicks.\n",
              "      quickchartButtonEl.classList.add('colab-df-spinner');\n",
              "      try {\n",
              "        const charts = await google.colab.kernel.invokeFunction(\n",
              "            'suggestCharts', [key], {});\n",
              "      } catch (error) {\n",
              "        console.error('Error during call to suggestCharts:', error);\n",
              "      }\n",
              "      quickchartButtonEl.classList.remove('colab-df-spinner');\n",
              "      quickchartButtonEl.classList.add('colab-df-quickchart-complete');\n",
              "    }\n",
              "    (() => {\n",
              "      let quickchartButtonEl =\n",
              "        document.querySelector('#df-2aff7820-1647-4584-b71e-765aedd6b28d button');\n",
              "      quickchartButtonEl.style.display =\n",
              "        google.colab.kernel.accessAllowed ? 'block' : 'none';\n",
              "    })();\n",
              "  </script>\n",
              "</div>\n",
              "\n",
              "    </div>\n",
              "  </div>\n"
            ],
            "application/vnd.google.colaboratory.intrinsic+json": {
              "type": "dataframe",
              "variable_name": "df_pandas",
              "summary": "{\n  \"name\": \"df_pandas\",\n  \"rows\": 614,\n  \"fields\": [\n    {\n      \"column\": \"Id\",\n      \"properties\": {\n        \"dtype\": \"string\",\n        \"num_unique_values\": 614,\n        \"samples\": [\n          \"LP002139\",\n          \"LP002223\",\n          \"LP001570\"\n        ],\n        \"semantic_type\": \"\",\n        \"description\": \"\"\n      }\n    },\n    {\n      \"column\": \"Cinsiyet\",\n      \"properties\": {\n        \"dtype\": \"category\",\n        \"num_unique_values\": 2,\n        \"samples\": [\n          \"Female\",\n          \"Male\"\n        ],\n        \"semantic_type\": \"\",\n        \"description\": \"\"\n      }\n    },\n    {\n      \"column\": \"Evli\",\n      \"properties\": {\n        \"dtype\": \"category\",\n        \"num_unique_values\": 2,\n        \"samples\": [\n          \"Yes\",\n          \"No\"\n        ],\n        \"semantic_type\": \"\",\n        \"description\": \"\"\n      }\n    },\n    {\n      \"column\": \"Bak\\u0131ml\\u0131lar\",\n      \"properties\": {\n        \"dtype\": \"category\",\n        \"num_unique_values\": 4,\n        \"samples\": [\n          \"1\",\n          \"3+\"\n        ],\n        \"semantic_type\": \"\",\n        \"description\": \"\"\n      }\n    },\n    {\n      \"column\": \"E\\u011fitim\",\n      \"properties\": {\n        \"dtype\": \"category\",\n        \"num_unique_values\": 2,\n        \"samples\": [\n          \"Not Graduate\",\n          \"Graduate\"\n        ],\n        \"semantic_type\": \"\",\n        \"description\": \"\"\n      }\n    },\n    {\n      \"column\": \"Serbest Meslek\",\n      \"properties\": {\n        \"dtype\": \"category\",\n        \"num_unique_values\": 2,\n        \"samples\": [\n          \"Yes\",\n          \"No\"\n        ],\n        \"semantic_type\": \"\",\n        \"description\": \"\"\n      }\n    },\n    {\n      \"column\": \"Ba\\u015fvuru Sahibinin Geliri\",\n      \"properties\": {\n        \"dtype\": \"int32\",\n        \"num_unique_values\": 505,\n        \"samples\": [\n          8333,\n          4342\n        ],\n        \"semantic_type\": \"\",\n        \"description\": \"\"\n      }\n    },\n    {\n      \"column\": \"Ortak Ba\\u015fvuru Sahibinin Geliri\",\n      \"properties\": {\n        \"dtype\": \"number\",\n        \"std\": 2926.2483692241885,\n        \"min\": 0.0,\n        \"max\": 41667.0,\n        \"num_unique_values\": 287,\n        \"samples\": [\n          1840.0,\n          2042.0\n        ],\n        \"semantic_type\": \"\",\n        \"description\": \"\"\n      }\n    },\n    {\n      \"column\": \"Kredi miktar\\u0131\",\n      \"properties\": {\n        \"dtype\": \"int32\",\n        \"num_unique_values\": 203,\n        \"samples\": [\n          125,\n          349\n        ],\n        \"semantic_type\": \"\",\n        \"description\": \"\"\n      }\n    },\n    {\n      \"column\": \"Kredi Tutar\\u0131 Vadesi\",\n      \"properties\": {\n        \"dtype\": \"int32\",\n        \"num_unique_values\": 11,\n        \"samples\": [\n          60,\n          360\n        ],\n        \"semantic_type\": \"\",\n        \"description\": \"\"\n      }\n    },\n    {\n      \"column\": \"Kredi ge\\u00e7mi\\u015fi\",\n      \"properties\": {\n        \"dtype\": \"int32\",\n        \"num_unique_values\": 2,\n        \"samples\": [\n          0,\n          1\n        ],\n        \"semantic_type\": \"\",\n        \"description\": \"\"\n      }\n    },\n    {\n      \"column\": \"M\\u00fclk_Alan\",\n      \"properties\": {\n        \"dtype\": \"category\",\n        \"num_unique_values\": 3,\n        \"samples\": [\n          \"Urban\",\n          \"Rural\"\n        ],\n        \"semantic_type\": \"\",\n        \"description\": \"\"\n      }\n    },\n    {\n      \"column\": \"Kredi_Durumu\",\n      \"properties\": {\n        \"dtype\": \"int32\",\n        \"num_unique_values\": 2,\n        \"samples\": [\n          0,\n          1\n        ],\n        \"semantic_type\": \"\",\n        \"description\": \"\"\n      }\n    },\n    {\n      \"column\": \"Toplam gelir\",\n      \"properties\": {\n        \"dtype\": \"number\",\n        \"std\": 6458.66387219434,\n        \"min\": 1442.0,\n        \"max\": 81000.0,\n        \"num_unique_values\": 554,\n        \"samples\": [\n          3988.0,\n          3259.0\n        ],\n        \"semantic_type\": \"\",\n        \"description\": \"\"\n      }\n    }\n  ]\n}"
            }
          },
          "metadata": {},
          "execution_count": 156
        }
      ]
    },
    {
      "cell_type": "code",
      "source": [],
      "metadata": {
        "id": "ok-3v3SzYZnN"
      },
      "execution_count": null,
      "outputs": []
    },
    {
      "cell_type": "code",
      "source": [],
      "metadata": {
        "id": "fU9l5_q8YZkK"
      },
      "execution_count": null,
      "outputs": []
    },
    {
      "cell_type": "code",
      "source": [],
      "metadata": {
        "id": "Tjvb_5kTYZhg"
      },
      "execution_count": null,
      "outputs": []
    }
  ]
}